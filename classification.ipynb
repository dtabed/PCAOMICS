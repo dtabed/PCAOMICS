{
  "cells": [
    {
      "cell_type": "code",
      "source": [
        "import pandas as pd\n",
        "from sklearn.model_selection import cross_val_predict, KFold\n",
        "from sklearn.svm import SVC\n",
        "from sklearn import metrics\n",
        "\n",
        "def svm_rbf_classification(csv_file):\n",
        "    # Load the dataset\n",
        "    df = pd.read_csv(csv_file)\n",
        "    \n",
        "    # Separate features and labels\n",
        "    X = df.iloc[:, :-1]  # Features\n",
        "    y = df.iloc[:, -1]   # Labels\n",
        "    \n",
        "    # SVM with RBF kernel\n",
        "    svm_classifier = SVC(C=1, gamma=0.02, kernel='rbf', probability=True)\n",
        "    \n",
        "    # 10-fold cross-validation\n",
        "    kf = KFold(n_splits=10, shuffle=True, random_state=42)\n",
        "    \n",
        "    # Perform cross-validated prediction\n",
        "    y_pred = cross_val_predict(svm_classifier, X, y, cv=kf)\n",
        "    \n",
        "    # Calculate performance metrics\n",
        "    confusion_matrix = metrics.confusion_matrix(y, y_pred)\n",
        "    accuracy = metrics.accuracy_score(y, y_pred)\n",
        "    auc_roc = metrics.roc_auc_score(y, y_pred)\n",
        "    f_measure = metrics.f1_score(y, y_pred)\n",
        "    precision = metrics.precision_score(y, y_pred)\n",
        "    recall = metrics.recall_score(y, y_pred)\n",
        "    \n",
        "    # Print the results\n",
        "    print(\"Confusion Matrix:\\n\", confusion_matrix)\n",
        "    print(\"Accuracy: {:.4f}\".format(accuracy))\n",
        "    print(\"AUC-ROC: {:.4f}\".format(auc_roc))\n",
        "    print(\"F-Measure: {:.4f}\".format(f_measure))\n",
        "    print(\"Precision: {:.4f}\".format(precision))\n",
        "    print(\"Recall: {:.4f}\".format(recall))\n",
        "\n"
      ],
      "outputs": [
        {
          "output_type": "display_data",
          "data": {
            "application/vnd.livy.statement-meta+json": {
              "spark_pool": "0291652b-36aa-4c8b-8a2b-737829a7d104",
              "session_id": "10",
              "statement_id": 9,
              "state": "finished",
              "livy_statement_state": "available",
              "queued_time": "2023-12-16T01:45:00.5582133Z",
              "session_start_time": null,
              "execution_start_time": "2023-12-16T01:45:00.6943481Z",
              "execution_finish_time": "2023-12-16T01:45:01.2598415Z",
              "spark_jobs": {
                "numbers": {
                  "RUNNING": 0,
                  "SUCCEEDED": 0,
                  "UNKNOWN": 0,
                  "FAILED": 0
                },
                "jobs": [],
                "limit": 20,
                "rule": "ALL_DESC"
              },
              "parent_msg_id": "ac09bc0a-5d04-4ef5-81a9-24d9f0503707"
            },
            "text/plain": "StatementMeta(0291652b-36aa-4c8b-8a2b-737829a7d104, 10, 9, Finished, Available)"
          },
          "metadata": {}
        }
      ],
      "execution_count": 4,
      "metadata": {
        "gather": {
          "logged": 1702691100679
        }
      }
    },
    {
      "cell_type": "code",
      "source": [
        "svm_rbf_classification('Users/alkhateeb/Menupause_data_ALL.csv')"
      ],
      "outputs": [
        {
          "output_type": "display_data",
          "data": {
            "application/vnd.livy.statement-meta+json": {
              "spark_pool": "0291652b-36aa-4c8b-8a2b-737829a7d104",
              "session_id": "10",
              "statement_id": 10,
              "state": "finished",
              "livy_statement_state": "available",
              "queued_time": "2023-12-16T01:45:06.7687689Z",
              "session_start_time": null,
              "execution_start_time": "2023-12-16T01:45:07.0861716Z",
              "execution_finish_time": "2023-12-16T01:45:08.298785Z",
              "spark_jobs": {
                "numbers": {
                  "RUNNING": 0,
                  "SUCCEEDED": 0,
                  "UNKNOWN": 0,
                  "FAILED": 0
                },
                "jobs": [],
                "limit": 20,
                "rule": "ALL_DESC"
              },
              "parent_msg_id": "936f6b02-e14c-497b-aee5-e5c220d30262"
            },
            "text/plain": "StatementMeta(0291652b-36aa-4c8b-8a2b-737829a7d104, 10, 10, Finished, Available)"
          },
          "metadata": {}
        },
        {
          "output_type": "stream",
          "name": "stdout",
          "text": "Confusion Matrix:\n [[  0  89]\n [  0 255]]\nAccuracy: 0.7413\nAUC-ROC: 0.5000\nF-Measure: 0.8514\nPrecision: 0.7413\nRecall: 1.0000\n"
        }
      ],
      "execution_count": 5,
      "metadata": {
        "jupyter": {
          "source_hidden": false,
          "outputs_hidden": false
        },
        "nteract": {
          "transient": {
            "deleting": false
          }
        },
        "gather": {
          "logged": 1702691107687
        }
      }
    },
    {
      "cell_type": "code",
      "source": [
        "import pandas as pd\n",
        "from sklearn.model_selection import cross_val_predict, KFold\n",
        "from sklearn.ensemble import RandomForestClassifier\n",
        "from sklearn import metrics\n",
        "\n",
        "def random_forest_classification(csv_file):\n",
        "    # Load the dataset\n",
        "    df = pd.read_csv(csv_file)\n",
        "    \n",
        "    # Separate features and labels\n",
        "    X = df.iloc[:, :-1]  # Features\n",
        "    y = df.iloc[:, -1]   # Labels\n",
        "    \n",
        "    # Random Forest classifier\n",
        "    rf_classifier = RandomForestClassifier(n_estimators=1000, max_features='log2', random_state=42)\n",
        "    \n",
        "    # 10-fold cross-validation\n",
        "    kf = KFold(n_splits=10, shuffle=True, random_state=42)\n",
        "    \n",
        "    # Perform cross-validated prediction\n",
        "    y_pred = cross_val_predict(rf_classifier, X, y, cv=kf)\n",
        "    \n",
        "    # Calculate performance metrics\n",
        "    confusion_matrix = metrics.confusion_matrix(y, y_pred)\n",
        "    accuracy = metrics.accuracy_score(y, y_pred)\n",
        "    auc_roc = metrics.roc_auc_score(y, y_pred)\n",
        "    f_measure = metrics.f1_score(y, y_pred)\n",
        "    precision = metrics.precision_score(y, y_pred)\n",
        "    recall = metrics.recall_score(y, y_pred)\n",
        "    \n",
        "    # Print the results\n",
        "    print(\"Confusion Matrix:\\n\", confusion_matrix)\n",
        "    print(\"Accuracy: {:.4f}\".format(accuracy))\n",
        "    print(\"AUC-ROC: {:.4f}\".format(auc_roc))\n",
        "    print(\"F-Measure: {:.4f}\".format(f_measure))\n",
        "    print(\"Precision: {:.4f}\".format(precision))\n",
        "    print(\"Recall: {:.4f}\".format(recall))\n",
        "\n"
      ],
      "outputs": [
        {
          "output_type": "display_data",
          "data": {
            "application/vnd.livy.statement-meta+json": {
              "spark_pool": "0291652b-36aa-4c8b-8a2b-737829a7d104",
              "session_id": "10",
              "statement_id": 11,
              "state": "finished",
              "livy_statement_state": "available",
              "queued_time": "2023-12-16T02:01:54.5075382Z",
              "session_start_time": null,
              "execution_start_time": "2023-12-16T02:01:54.6852041Z",
              "execution_finish_time": "2023-12-16T02:01:55.7586982Z",
              "spark_jobs": {
                "numbers": {
                  "RUNNING": 0,
                  "SUCCEEDED": 0,
                  "UNKNOWN": 0,
                  "FAILED": 0
                },
                "jobs": [],
                "limit": 20,
                "rule": "ALL_DESC"
              },
              "parent_msg_id": "a921d4d1-820f-4293-a36f-19a9dc4b0f99"
            },
            "text/plain": "StatementMeta(0291652b-36aa-4c8b-8a2b-737829a7d104, 10, 11, Finished, Available)"
          },
          "metadata": {}
        }
      ],
      "execution_count": 6,
      "metadata": {
        "jupyter": {
          "source_hidden": false,
          "outputs_hidden": false
        },
        "nteract": {
          "transient": {
            "deleting": false
          }
        },
        "gather": {
          "logged": 1702692115180
        }
      }
    },
    {
      "cell_type": "code",
      "source": [
        "random_forest_classification('Users/alkhateeb/Menupause_data_ALL.csv)\n"
      ],
      "outputs": [
        {
          "output_type": "display_data",
          "data": {
            "application/vnd.livy.statement-meta+json": {
              "spark_pool": "0291652b-36aa-4c8b-8a2b-737829a7d104",
              "session_id": "10",
              "statement_id": 14,
              "state": "finished",
              "livy_statement_state": "available",
              "queued_time": "2023-12-16T02:25:38.5553417Z",
              "session_start_time": null,
              "execution_start_time": "2023-12-16T02:25:38.7433474Z",
              "execution_finish_time": "2023-12-16T02:25:39.2383683Z",
              "spark_jobs": {
                "numbers": {
                  "RUNNING": 0,
                  "SUCCEEDED": 0,
                  "UNKNOWN": 0,
                  "FAILED": 0
                },
                "jobs": [],
                "limit": 20,
                "rule": "ALL_DESC"
              },
              "parent_msg_id": "7d5e1ec1-afe1-4ce8-b0e2-fdfaa3d63207"
            },
            "text/plain": "StatementMeta(0291652b-36aa-4c8b-8a2b-737829a7d104, 10, 14, Finished, Available)"
          },
          "metadata": {}
        },
        {
          "output_type": "error",
          "ename": "SyntaxError",
          "evalue": "EOL while scanning string literal (2752855374.py, line 1)",
          "traceback": [
            "\u001b[0;36m  File \u001b[0;32m\"/tmp/ipykernel_7689/2752855374.py\"\u001b[0;36m, line \u001b[0;32m1\u001b[0m\n\u001b[0;31m    random_forest_classification('Users/alkhateeb/Menupause_data_ALL.csv)\u001b[0m\n\u001b[0m                                                                         ^\u001b[0m\n\u001b[0;31mSyntaxError\u001b[0m\u001b[0;31m:\u001b[0m EOL while scanning string literal\n"
          ]
        }
      ],
      "execution_count": 9,
      "metadata": {
        "jupyter": {
          "source_hidden": false,
          "outputs_hidden": false
        },
        "nteract": {
          "transient": {
            "deleting": false
          }
        },
        "gather": {
          "logged": 1702693538830
        }
      }
    },
    {
      "cell_type": "code",
      "source": [
        "import pandas as pd\n",
        "from sklearn.model_selection import cross_val_predict, KFold\n",
        "from sklearn.naive_bayes import GaussianNB\n",
        "from sklearn import metrics\n",
        "\n",
        "def naive_bayes_classification(csv_file):\n",
        "    # Load the dataset\n",
        "    df = pd.read_csv(csv_file)\n",
        "    \n",
        "    # Separate features and labels\n",
        "    X = df.iloc[:, :-1]  # Features\n",
        "    y = df.iloc[:, -1]   # Labels\n",
        "    \n",
        "    # Naive Bayes classifier (assuming Gaussian distribution)\n",
        "    nb_classifier = GaussianNB()\n",
        "    \n",
        "    # 10-fold cross-validation\n",
        "    kf = KFold(n_splits=10, shuffle=True, random_state=42)\n",
        "    \n",
        "    # Perform cross-validated prediction\n",
        "    y_pred = cross_val_predict(nb_classifier, X, y, cv=kf)\n",
        "    \n",
        "    # Calculate performance metrics\n",
        "    confusion_matrix = metrics.confusion_matrix(y, y_pred)\n",
        "    accuracy = metrics.accuracy_score(y, y_pred)\n",
        "    auc_roc = metrics.roc_auc_score(y, y_pred)\n",
        "    f_measure = metrics.f1_score(y, y_pred)\n",
        "    precision = metrics.precision_score(y, y_pred)\n",
        "    recall = metrics.recall_score(y, y_pred)\n",
        "    \n",
        "    # Print the results\n",
        "    print(\"Confusion Matrix:\\n\", confusion_matrix)\n",
        "    print(\"Accuracy: {:.4f}\".format(accuracy))\n",
        "    print(\"AUC-ROC: {:.4f}\".format(auc_roc))\n",
        "    print(\"F-Measure: {:.4f}\".format(f_measure))\n",
        "    print(\"Precision: {:.4f}\".format(precision))\n",
        "    print(\"Recall: {:.4f}\".format(recall))\n",
        "\n"
      ],
      "outputs": [],
      "execution_count": null,
      "metadata": {
        "jupyter": {
          "source_hidden": false,
          "outputs_hidden": false
        },
        "nteract": {
          "transient": {
            "deleting": false
          }
        }
      }
    }
  ],
  "metadata": {
    "kernelspec": {
      "name": "synapse_pyspark",
      "language": "Python",
      "display_name": "Synapse PySpark"
    },
    "language_info": {
      "name": "python",
      "version": "3.8.0",
      "mimetype": "text/x-python",
      "file_extension": ".py",
      "pygments_lexer": "ipython",
      "codemirror_mode": "ipython",
      "nbconvert_exporter": "python"
    },
    "microsoft": {
      "ms_spell_check": {
        "ms_spell_check_language": "en"
      },
      "host": {
        "AzureML": {
          "notebookHasBeenCompleted": true
        }
      }
    },
    "kernel_info": {
      "name": "synapse_pyspark"
    },
    "nteract": {
      "version": "nteract-front-end@1.0.0"
    }
  },
  "nbformat": 4,
  "nbformat_minor": 2
}