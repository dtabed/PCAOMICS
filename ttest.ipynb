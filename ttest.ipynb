{
  "cells": [
    {
      "cell_type": "code",
      "source": [
        "import pandas as pd\n",
        "from scipy.stats.mstats import ttest_ind\n",
        "\n",
        "# Load the CSV file\n",
        "file_path = \"Users/alkhateeb/ttest_Adasyn.csv\"  # Replace with the actual file path\n",
        "df = pd.read_csv(file_path)\n",
        "\n",
        "# Separate the data into two groups based on the class column\n",
        "class_0_data = df[df['class'] == 0][['f1', 'f2']]\n",
        "class_1_data = df[df['class'] == 1][['f1', 'f2']]\n",
        "\n",
        "# Perform Hotelling's T-squared test\n",
        "t2_statistic, p_value = ttest_ind(class_0_data, class_1_data)\n",
        "\n",
        "# Print the result and p-value\n",
        "print(f\"Hotelling's T-squared Statistic: {t2_statistic}\")\n",
        "print(f\"P-Value: {p_value}\")\n",
        "\n"
      ],
      "outputs": [
        {
          "output_type": "display_data",
          "data": {
            "application/vnd.livy.statement-meta+json": {
              "spark_pool": "0291652b-36aa-4c8b-8a2b-737829a7d104",
              "session_id": "12",
              "statement_id": 16,
              "state": "finished",
              "livy_statement_state": "available",
              "queued_time": "2023-12-20T16:27:16.6454342Z",
              "session_start_time": null,
              "execution_start_time": "2023-12-20T16:27:16.7790383Z",
              "execution_finish_time": "2023-12-20T16:27:17.2835452Z",
              "spark_jobs": {
                "numbers": {
                  "SUCCEEDED": 0,
                  "UNKNOWN": 0,
                  "RUNNING": 0,
                  "FAILED": 0
                },
                "jobs": [],
                "limit": 20,
                "rule": "ALL_DESC"
              },
              "parent_msg_id": "470fb901-2004-4a92-bbfe-31d4b208ee41"
            },
            "text/plain": "StatementMeta(0291652b-36aa-4c8b-8a2b-737829a7d104, 12, 16, Finished, Available)"
          },
          "metadata": {}
        },
        {
          "output_type": "stream",
          "name": "stdout",
          "text": "Hotelling's T-squared Statistic: [0.3626233559871591 -0.32392578857040505]\nP-Value: [0.71718546 0.74625871]\n"
        }
      ],
      "execution_count": 11,
      "metadata": {
        "gather": {
          "logged": 1703089637069
        }
      }
    },
    {
      "cell_type": "code",
      "source": [
        "import pandas as pd\n",
        "from scipy.stats.mstats import ttest_ind\n",
        "\n",
        "# Load the CSV file\n",
        "file_path = \"Users/alkhateeb/ttest_Adasyn.csv\"  # Replace with the actual file path\n",
        "df = pd.read_csv(file_path)\n",
        "\n",
        "# Separate the data into two groups based on the class column\n",
        "class_0_data = df[df['class'] == 0][['f1', 'f2']]\n",
        "class_1_data = df[df['class'] == 1][['f1', 'f2']]\n",
        "\n",
        "# Perform Hotelling's T-squared test\n",
        "t2_statistic, p_value = ttest_ind(class_0_data, class_1_data)\n",
        "\n",
        "# Print the result and p-value\n",
        "print(f\"Hotelling's T-squared Statistic: {t2_statistic}\")\n",
        "print(f\"P-Value: {p_value}\")\n",
        "\n"
      ],
      "outputs": [
        {
          "output_type": "display_data",
          "data": {
            "application/vnd.livy.statement-meta+json": {
              "spark_pool": "0291652b-36aa-4c8b-8a2b-737829a7d104",
              "session_id": "11",
              "statement_id": 8,
              "state": "finished",
              "livy_statement_state": "available",
              "queued_time": "2023-12-18T23:52:17.8388508Z",
              "session_start_time": null,
              "execution_start_time": "2023-12-18T23:52:17.9849717Z",
              "execution_finish_time": "2023-12-18T23:52:35.9520434Z",
              "spark_jobs": {
                "numbers": {
                  "RUNNING": 0,
                  "SUCCEEDED": 0,
                  "FAILED": 0,
                  "UNKNOWN": 0
                },
                "jobs": [],
                "limit": 20,
                "rule": "ALL_DESC"
              },
              "parent_msg_id": "99d375b3-d4bd-48b7-aee5-334249e1a285"
            },
            "text/plain": "StatementMeta(0291652b-36aa-4c8b-8a2b-737829a7d104, 11, 8, Finished, Available)"
          },
          "metadata": {}
        },
        {
          "output_type": "stream",
          "name": "stdout",
          "text": "Collecting dgl\n  Downloading dgl-1.1.3-cp38-cp38-manylinux1_x86_64.whl (6.5 MB)\n\u001b[K     |████████████████████████████████| 6.5 MB 19.9 MB/s eta 0:00:01\n\u001b[?25hRequirement already satisfied: networkx>=2.1 in /home/trusted-service-user/cluster-env/env/lib/python3.8/site-packages (from dgl) (2.5.1)\nRequirement already satisfied: numpy>=1.14.0 in /home/trusted-service-user/cluster-env/env/lib/python3.8/site-packages (from dgl) (1.19.4)\nRequirement already satisfied: tqdm in /home/trusted-service-user/cluster-env/env/lib/python3.8/site-packages (from dgl) (4.61.2)\nRequirement already satisfied: requests>=2.19.0 in /home/trusted-service-user/cluster-env/env/lib/python3.8/site-packages (from dgl) (2.25.1)\nRequirement already satisfied: psutil>=5.8.0 in /home/trusted-service-user/cluster-env/env/lib/python3.8/site-packages (from dgl) (5.8.0)\nRequirement already satisfied: scipy>=1.1.0 in /home/trusted-service-user/cluster-env/env/lib/python3.8/site-packages (from dgl) (1.5.3)\nRequirement already satisfied: decorator<5,>=4.3 in /home/trusted-service-user/cluster-env/env/lib/python3.8/site-packages (from networkx>=2.1->dgl) (4.4.2)\nRequirement already satisfied: chardet<5,>=3.0.2 in /home/trusted-service-user/cluster-env/env/lib/python3.8/site-packages (from requests>=2.19.0->dgl) (4.0.0)\nRequirement already satisfied: certifi>=2017.4.17 in /home/trusted-service-user/cluster-env/env/lib/python3.8/site-packages (from requests>=2.19.0->dgl) (2021.5.30)\nRequirement already satisfied: urllib3<1.27,>=1.21.1 in /home/trusted-service-user/cluster-env/env/lib/python3.8/site-packages (from requests>=2.19.0->dgl) (1.26.4)\nRequirement already satisfied: idna<3,>=2.5 in /home/trusted-service-user/cluster-env/env/lib/python3.8/site-packages (from requests>=2.19.0->dgl) (2.10)\nInstalling collected packages: dgl\nSuccessfully installed dgl-1.1.3\n"
        }
      ],
      "execution_count": 3,
      "metadata": {
        "jupyter": {
          "source_hidden": false,
          "outputs_hidden": false
        },
        "nteract": {
          "transient": {
            "deleting": false
          }
        }
      }
    },
    {
      "cell_type": "code",
      "source": [],
      "outputs": [],
      "execution_count": null,
      "metadata": {
        "jupyter": {
          "source_hidden": false,
          "outputs_hidden": false
        },
        "nteract": {
          "transient": {
            "deleting": false
          }
        }
      }
    }
  ],
  "metadata": {
    "kernelspec": {
      "name": "synapse_pyspark",
      "language": "Python",
      "display_name": "Synapse PySpark"
    },
    "language_info": {
      "name": "python",
      "version": "3.8.0",
      "mimetype": "text/x-python",
      "file_extension": ".py",
      "pygments_lexer": "ipython",
      "codemirror_mode": "ipython",
      "nbconvert_exporter": "python"
    },
    "microsoft": {
      "ms_spell_check": {
        "ms_spell_check_language": "en"
      }
    },
    "kernel_info": {
      "name": "synapse_pyspark"
    },
    "nteract": {
      "version": "nteract-front-end@1.0.0"
    }
  },
  "nbformat": 4,
  "nbformat_minor": 2
}